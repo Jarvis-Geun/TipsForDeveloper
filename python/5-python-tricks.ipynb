{
 "cells": [
  {
   "attachments": {},
   "cell_type": "markdown",
   "metadata": {},
   "source": [
    "# 5 Python Tricks That Distinguish Senior Developers From Juniors\n",
    "`-` Reference\n",
    "- [5 Python Tricks That Distinguish Senior Developers From Juniors](https://medium.com/towards-data-science/5-python-tricks-that-distinguish-senior-developers-from-juniors-826d57ab3940)"
   ]
  },
  {
   "attachments": {},
   "cell_type": "markdown",
   "metadata": {},
   "source": [
    "## 1. Read in a file effectively with comprehensions and splits"
   ]
  },
  {
   "cell_type": "code",
   "execution_count": 2,
   "metadata": {},
   "outputs": [],
   "source": [
    "with open(\"file.txt\", \"w\") as f:\n",
    "    f.write(\"10\\n20\\n30\\n\\n50\\n60\\n70\")"
   ]
  },
  {
   "attachments": {},
   "cell_type": "markdown",
   "metadata": {},
   "source": [
    "### 1.1 Junior developer approach: a loop with if-else statements"
   ]
  },
  {
   "cell_type": "code",
   "execution_count": null,
   "metadata": {},
   "outputs": [],
   "source": [
    "numbers = []\n",
    "with open(\"file.txt\") as f:\n",
    "  group = []\n",
    "  for line in f:\n",
    "    if line == \"\\n\":\n",
    "      numbers.append(group)\n",
    "      group = []\n",
    "    else:\n",
    "      group.append(int(line.rstrip()))\n",
    "  # append the last group because if line == \"\\n\" will not be True for\n",
    "  # the last group\n",
    "  numbers.append(group)"
   ]
  },
  {
   "attachments": {},
   "cell_type": "markdown",
   "metadata": {},
   "source": [
    "### 1.2 Senior developer approach: make use of list comprehensions and .split()"
   ]
  },
  {
   "cell_type": "code",
   "execution_count": 64,
   "metadata": {},
   "outputs": [
    {
     "data": {
      "text/plain": [
       "[[10, 20, 30], [50, 60, 70]]"
      ]
     },
     "execution_count": 64,
     "metadata": {},
     "output_type": "execute_result"
    }
   ],
   "source": [
    "with open(\"file.txt\", \"r\") as f:\n",
    "    nums = [list(map(int, line.split())) for line in f.read().split('\\n\\n')]\n",
    "nums"
   ]
  },
  {
   "attachments": {},
   "cell_type": "markdown",
   "metadata": {},
   "source": [
    "## 2. Use Enum instead of if-elif-else"
   ]
  },
  {
   "attachments": {},
   "cell_type": "markdown",
   "metadata": {},
   "source": [
    "### 2.1 Junior developer approach: if-elif-else"
   ]
  },
  {
   "cell_type": "code",
   "execution_count": 66,
   "metadata": {},
   "outputs": [],
   "source": [
    "def points_per_shape(shape: str) -> int:\n",
    "    if shape == 'X':\n",
    "        return 1\n",
    "    elif shape == 'Y':\n",
    "        return 2\n",
    "    elif shape == 'Z':\n",
    "        return 3\n",
    "    else:\n",
    "        raise ValueError(\"Invalid shape\")"
   ]
  },
  {
   "cell_type": "code",
   "execution_count": 30,
   "metadata": {},
   "outputs": [
    {
     "name": "stdout",
     "output_type": "stream",
     "text": [
      "1\n",
      "2\n",
      "3\n"
     ]
    }
   ],
   "source": [
    "print(points_per_shape('X'))\n",
    "print(points_per_shape('Y'))\n",
    "print(points_per_shape('Z'))"
   ]
  },
  {
   "attachments": {},
   "cell_type": "markdown",
   "metadata": {},
   "source": [
    "### 2.2 Senior developer approach: Enum"
   ]
  },
  {
   "cell_type": "code",
   "execution_count": 31,
   "metadata": {},
   "outputs": [],
   "source": [
    "from enum import Enum\n",
    "\n",
    "class ShapePoints(Enum):\n",
    "    X = 1\n",
    "    Y = 2\n",
    "    Z = 3\n",
    "\n",
    "def points_per_shape(shape: str) -> int:\n",
    "    return ShapePoints[shape].value"
   ]
  },
  {
   "cell_type": "code",
   "execution_count": 48,
   "metadata": {},
   "outputs": [
    {
     "name": "stdout",
     "output_type": "stream",
     "text": [
      "[1, 2, 3]\n"
     ]
    }
   ],
   "source": [
    "ls = ['X', 'Y', 'Z']\n",
    "points = [ShapePoints[i].value for i in ls]\n",
    "print(points)"
   ]
  },
  {
   "attachments": {},
   "cell_type": "markdown",
   "metadata": {},
   "source": [
    "### 2.3 using lookup table (refer to Chapter 3)"
   ]
  },
  {
   "cell_type": "code",
   "execution_count": 49,
   "metadata": {},
   "outputs": [],
   "source": [
    "def points_per_shape(shape: str) -> int:\n",
    "    return 'XYZ'.index(shape) + 1"
   ]
  },
  {
   "cell_type": "code",
   "execution_count": 51,
   "metadata": {},
   "outputs": [
    {
     "data": {
      "text/plain": [
       "1"
      ]
     },
     "execution_count": 51,
     "metadata": {},
     "output_type": "execute_result"
    }
   ],
   "source": [
    "points_per_shape('X')"
   ]
  },
  {
   "attachments": {},
   "cell_type": "markdown",
   "metadata": {},
   "source": [
    "## 3. Use lookup tables instead of dictionaries"
   ]
  },
  {
   "attachments": {},
   "cell_type": "markdown",
   "metadata": {},
   "source": [
    "### 3.1 Junior developer approach: creating a global dictionary"
   ]
  },
  {
   "cell_type": "code",
   "execution_count": 52,
   "metadata": {},
   "outputs": [],
   "source": [
    "letters = 'abcdefghijklmnopqrstuvwxyzABCDEFGHIJKLMNOPQRSTUVWXYZ'\n",
    "letter_dict = dict()\n",
    "for value, letter in enumerate(letters, start=1):\n",
    "    letter_dict[letter] = value\n",
    "\n",
    "def letter_value(ltr: str) -> int:\n",
    "    return letter_dict[ltr]"
   ]
  },
  {
   "cell_type": "code",
   "execution_count": 53,
   "metadata": {},
   "outputs": [
    {
     "data": {
      "text/plain": [
       "24"
      ]
     },
     "execution_count": 53,
     "metadata": {},
     "output_type": "execute_result"
    }
   ],
   "source": [
    "letter_value('x')"
   ]
  },
  {
   "attachments": {},
   "cell_type": "markdown",
   "metadata": {},
   "source": [
    "### 3.2 Senior developer approach: using a string as a lookup table"
   ]
  },
  {
   "cell_type": "code",
   "execution_count": 54,
   "metadata": {},
   "outputs": [],
   "source": [
    "def letter_value(ltr: str) -> int:\n",
    "    return 'abcdefghijklmnopqrstuvwxyzABCDEFGHIJKLMNOPQRSTUVWXYZ'.index(ltr) + 1"
   ]
  },
  {
   "cell_type": "code",
   "execution_count": 55,
   "metadata": {},
   "outputs": [
    {
     "data": {
      "text/plain": [
       "24"
      ]
     },
     "execution_count": 55,
     "metadata": {},
     "output_type": "execute_result"
    }
   ],
   "source": [
    "letter_value('x')"
   ]
  },
  {
   "attachments": {},
   "cell_type": "markdown",
   "metadata": {},
   "source": [
    "## 4. Advanced slicing"
   ]
  },
  {
   "attachments": {},
   "cell_type": "markdown",
   "metadata": {},
   "source": [
    "### 4.1 Junior developer approach: double for loop with range and indices"
   ]
  },
  {
   "cell_type": "code",
   "execution_count": 61,
   "metadata": {},
   "outputs": [
    {
     "name": "stdout",
     "output_type": "stream",
     "text": [
      "[' D ', 'NC ', 'ZMP']\n"
     ]
    }
   ],
   "source": [
    "letters = []\n",
    "with open('input.txt', 'r') as f:\n",
    "    for line in f:\n",
    "        row = ''\n",
    "        for index in range(1, len(line), 4):\n",
    "            row += line[index]\n",
    "        letters.append(row)\n",
    "\n",
    "print(letters)"
   ]
  },
  {
   "attachments": {},
   "cell_type": "markdown",
   "metadata": {},
   "source": [
    "### 4.2 Senior developer approach: using advanced slicing methods"
   ]
  },
  {
   "cell_type": "code",
   "execution_count": 63,
   "metadata": {},
   "outputs": [
    {
     "name": "stdout",
     "output_type": "stream",
     "text": [
      "[' D ', 'NC ', 'ZMP']\n"
     ]
    }
   ],
   "source": [
    "with open('input.txt', 'r') as f:\n",
    "    letters = [line[1::4] for line in f]    # you can define \"step size\" using list slicing\n",
    "\n",
    "print(letters)"
   ]
  },
  {
   "attachments": {},
   "cell_type": "markdown",
   "metadata": {},
   "source": [
    "## 5. Use a class attribute to store class instances"
   ]
  },
  {
   "cell_type": "code",
   "execution_count": 97,
   "metadata": {},
   "outputs": [
    {
     "name": "stdout",
     "output_type": "stream",
     "text": [
      "2\n",
      "4\n"
     ]
    }
   ],
   "source": [
    "class Monkey:\n",
    "    monkeys: dict = dict()\n",
    "\n",
    "    def __init__(self, id: int):\n",
    "        self.id = id\n",
    "        self.bananas = 3\n",
    "        Monkey.monkeys[id] = self\n",
    "\n",
    "    def pass_banana(self, to_id: int):\n",
    "        Monkey.monkeys[to_id].bananas += 1\n",
    "        self.bananas -= 1\n",
    "\n",
    "Monkey(1)\n",
    "Monkey(2)\n",
    "Monkey.monkeys[1].pass_banana(to_id=2)\n",
    "\n",
    "print(Monkey.monkeys[1].bananas)\n",
    "print(Monkey.monkeys[2].bananas)"
   ]
  },
  {
   "attachments": {},
   "cell_type": "markdown",
   "metadata": {},
   "source": [
    "## 6. Self-documenting expressions (BONUS) : f-string"
   ]
  },
  {
   "attachments": {},
   "cell_type": "markdown",
   "metadata": {},
   "source": [
    "- [파이썬 f-string formatting은 무적일까?](https://velog.io/@keywookim/%ED%8C%8C%EC%9D%B4%EC%8D%AC-f-string-formatting%EC%9D%80-%EB%AC%B4%EC%A0%81%EC%9D%BC%EA%B9%8C)"
   ]
  },
  {
   "cell_type": "code",
   "execution_count": 1,
   "metadata": {},
   "outputs": [],
   "source": [
    "x = 10 * 2\n",
    "y = 3 * 7"
   ]
  },
  {
   "attachments": {},
   "cell_type": "markdown",
   "metadata": {},
   "source": [
    "### 6.1 Senior developer approach:"
   ]
  },
  {
   "cell_type": "code",
   "execution_count": 2,
   "metadata": {},
   "outputs": [
    {
     "name": "stdout",
     "output_type": "stream",
     "text": [
      "x = 20\n",
      "y = 21\n",
      "max(x, y) = 21\n"
     ]
    }
   ],
   "source": [
    "print(f\"x = {x}\")\n",
    "print(f\"y = {y}\")\n",
    "\n",
    "print(f\"max(x, y) = {max(x, y)}\")"
   ]
  },
  {
   "cell_type": "code",
   "execution_count": 8,
   "metadata": {},
   "outputs": [
    {
     "name": "stdout",
     "output_type": "stream",
     "text": [
      "x = 20\n",
      "y = 21\n",
      "max(x, y) = 21\n"
     ]
    }
   ],
   "source": [
    "print(f\"{x = }\")\n",
    "print(f\"{y = }\")\n",
    "print(f\"{max(x, y) = }\")"
   ]
  },
  {
   "cell_type": "code",
   "execution_count": null,
   "metadata": {},
   "outputs": [],
   "source": []
  }
 ],
 "metadata": {
  "kernelspec": {
   "display_name": "base",
   "language": "python",
   "name": "python3"
  },
  "language_info": {
   "codemirror_mode": {
    "name": "ipython",
    "version": 3
   },
   "file_extension": ".py",
   "mimetype": "text/x-python",
   "name": "python",
   "nbconvert_exporter": "python",
   "pygments_lexer": "ipython3",
   "version": "3.9.12"
  },
  "orig_nbformat": 4,
  "vscode": {
   "interpreter": {
    "hash": "cbf3073ea48b82b3ffa8ce58f7b83b183c2e1fd4df084aafc46331491352eb1a"
   }
  }
 },
 "nbformat": 4,
 "nbformat_minor": 2
}
